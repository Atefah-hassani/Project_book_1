{
 "cells": [
  {
   "cell_type": "markdown",
   "id": "f71099ee-6646-46e7-87cf-50cd1e4472cc",
   "metadata": {},
   "source": [
    "## BOOK PROJECT"
   ]
  },
  {
   "cell_type": "code",
   "execution_count": null,
   "id": "d868d751-69ba-486c-858f-3a6439e9e24a",
   "metadata": {},
   "outputs": [],
   "source": []
  },
  {
   "cell_type": "code",
   "execution_count": null,
   "id": "5e57f2a4-2f84-4e24-ba98-c9b972a674c5",
   "metadata": {},
   "outputs": [],
   "source": []
  },
  {
   "cell_type": "code",
   "execution_count": null,
   "id": "4104f2d8-51e9-4af2-b958-ddabc1234f58",
   "metadata": {},
   "outputs": [],
   "source": []
  }
 ],
 "metadata": {
  "kernelspec": {
   "display_name": "Python 3 (ipykernel)",
   "language": "python",
   "name": "python3"
  },
  "language_info": {
   "codemirror_mode": {
    "name": "ipython",
    "version": 3
   },
   "file_extension": ".py",
   "mimetype": "text/x-python",
   "name": "python",
   "nbconvert_exporter": "python",
   "pygments_lexer": "ipython3",
   "version": "3.12.7"
  }
 },
 "nbformat": 4,
 "nbformat_minor": 5
}
